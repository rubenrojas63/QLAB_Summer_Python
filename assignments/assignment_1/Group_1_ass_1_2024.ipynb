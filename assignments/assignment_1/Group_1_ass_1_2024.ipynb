{
 "cells": [
  {
   "cell_type": "markdown",
   "id": "496078dd",
   "metadata": {},
   "source": [
    "## Assignment 1 - Resolution\n",
    "\n",
    "#### Group 1:\n",
    "\n",
    "1. Ruben Rojas Ayala\n",
    "2. Daniel Max Ramírez Chavez\n",
    "3. Josué Ricapa Sánchez\n",
    "4. Alessandro Del Piero Burgos Campomanez\n",
    "\n",
    "To begin, we define the tuples given by the problem:"
   ]
  },
  {
   "cell_type": "code",
   "execution_count": 1,
   "id": "4c57490a",
   "metadata": {},
   "outputs": [],
   "source": [
    "tuple1 = ('Orange', [10, 20, 30], (5, 15, 25))\n",
    "tuple2 = ([7, 8], [9, 1], [10, 7])"
   ]
  },
  {
   "cell_type": "markdown",
   "id": "73ba2a15",
   "metadata": {},
   "source": [
    "To print the first item of the second item of `tuple1` we first use indexing as follows:"
   ]
  },
  {
   "cell_type": "code",
   "execution_count": 2,
   "id": "158f3ebd",
   "metadata": {},
   "outputs": [],
   "source": [
    "t1=tuple1[1][0]"
   ]
  },
  {
   "cell_type": "markdown",
   "id": "3640929c",
   "metadata": {},
   "source": [
    "With the first square bracket (this being [1]) the second item of `tuple1` is called and with the second square bracket (this being [0]) the first element of the previous called item is called. This is how the first item of the second item of `tuple1` is obtained. Then with the `print` function the said element called is printed:"
   ]
  },
  {
   "cell_type": "code",
   "execution_count": 3,
   "id": "ddb47cf1",
   "metadata": {},
   "outputs": [
    {
     "name": "stdout",
     "output_type": "stream",
     "text": [
      "10\n"
     ]
    }
   ],
   "source": [
    "print(t1)"
   ]
  },
  {
   "cell_type": "markdown",
   "id": "b4db3f72",
   "metadata": {},
   "source": [
    "Now, to print the last element of `tuple1` we can use the following in indexing:"
   ]
  },
  {
   "cell_type": "code",
   "execution_count": 4,
   "id": "270a13af",
   "metadata": {},
   "outputs": [],
   "source": [
    "t2=tuple1[-1]"
   ]
  },
  {
   "cell_type": "markdown",
   "id": "018e2a44",
   "metadata": {},
   "source": [
    "With [-1] we can call the last element of `tuple1`. Then to print it again we use the `print` function:"
   ]
  },
  {
   "cell_type": "code",
   "execution_count": 5,
   "id": "9a3167a4",
   "metadata": {},
   "outputs": [
    {
     "name": "stdout",
     "output_type": "stream",
     "text": [
      "(5, 15, 25)\n"
     ]
    }
   ],
   "source": [
    "print(t2)"
   ]
  },
  {
   "cell_type": "markdown",
   "id": "3354aefb",
   "metadata": {},
   "source": [
    "Now, with the following line of code we will try to change the value `orange` of `tuple1` for `pink grapefruit` as requested by the problem.\n",
    "Note that we use indexing to call the first element of tuple1 as output and we write the string `pink grapefruit` as input."
   ]
  },
  {
   "cell_type": "code",
   "execution_count": 6,
   "id": "8aeed598",
   "metadata": {},
   "outputs": [
    {
     "ename": "TypeError",
     "evalue": "'tuple' object does not support item assignment",
     "output_type": "error",
     "traceback": [
      "\u001b[1;31m---------------------------------------------------------------------------\u001b[0m",
      "\u001b[1;31mTypeError\u001b[0m                                 Traceback (most recent call last)",
      "Cell \u001b[1;32mIn[6], line 1\u001b[0m\n\u001b[1;32m----> 1\u001b[0m tuple1[\u001b[38;5;241m0\u001b[39m]\u001b[38;5;241m=\u001b[39m\u001b[38;5;124m'\u001b[39m\u001b[38;5;124mpink grapefruit\u001b[39m\u001b[38;5;124m'\u001b[39m\n",
      "\u001b[1;31mTypeError\u001b[0m: 'tuple' object does not support item assignment"
     ]
    }
   ],
   "source": [
    "tuple1[0]='pink grapefruit'"
   ]
  },
  {
   "cell_type": "markdown",
   "id": "bb0b9bbf",
   "metadata": {},
   "source": [
    "As we can see, it is not possible to perform this action since tuple-type objects cannot accept any modification of their elements once they were created.\n",
    "\n",
    "Now, to obtain the length of `tuple1` we use the `len` function (which returns the length or size of the entered input). Then we use `print` to print: "
   ]
  },
  {
   "cell_type": "code",
   "execution_count": 7,
   "id": "4d9966b3",
   "metadata": {},
   "outputs": [
    {
     "name": "stdout",
     "output_type": "stream",
     "text": [
      "3\n"
     ]
    }
   ],
   "source": [
    "l=len(tuple1)\n",
    "print(l)"
   ]
  },
  {
   "cell_type": "markdown",
   "id": "fcfe42d2",
   "metadata": {},
   "source": [
    "Now, to add all the elements of `tuple2` we do the following: first we use the `map` function to apply the `sum` function (which adds the elements of a given object) on each list that makes up `tuple2`. Thus we obtain the following printed tuple (applying the `tuple` function for this):\n",
    "\n",
    "*Note: the map function accepts as its first argument the function that you want to apply to each element that makes up the object inserted in the second argument.*"
   ]
  },
  {
   "cell_type": "code",
   "execution_count": 8,
   "id": "0c9a1b1b",
   "metadata": {},
   "outputs": [
    {
     "name": "stdout",
     "output_type": "stream",
     "text": [
      "(15, 10, 17)\n"
     ]
    }
   ],
   "source": [
    "sum1=tuple(map(sum,tuple2))\n",
    "print(sum1)"
   ]
  },
  {
   "cell_type": "markdown",
   "id": "5db65626",
   "metadata": {},
   "source": [
    "Then we add all the elements of this last tuple using the `sum` function again:"
   ]
  },
  {
   "cell_type": "code",
   "execution_count": 9,
   "id": "6850f1d9",
   "metadata": {},
   "outputs": [
    {
     "name": "stdout",
     "output_type": "stream",
     "text": [
      "42\n"
     ]
    }
   ],
   "source": [
    "sum2=sum(sum1)\n",
    "print(sum2)"
   ]
  },
  {
   "cell_type": "markdown",
   "id": "2ee15ad2",
   "metadata": {},
   "source": [
    "In this way all elements of `tuple2` were added.\n",
    "\n",
    "Finally, to generate a new tuple object named as `tuple3` with the half values of `tuple2` we do the following: first, we define the following function:"
   ]
  },
  {
   "cell_type": "code",
   "execution_count": 10,
   "id": "9e1ac70c",
   "metadata": {},
   "outputs": [],
   "source": [
    "def a(b):\n",
    "    c=[b[0]]\n",
    "    return c"
   ]
  },
  {
   "cell_type": "markdown",
   "id": "3997c49c",
   "metadata": {},
   "source": [
    "As we can see, with this function a list is created with only the first element of the input inserted.\n",
    "\n",
    "Then we use the `map` function to apply this last created function on each list that makes up `tuple2`:"
   ]
  },
  {
   "cell_type": "code",
   "execution_count": 11,
   "id": "da5bd614",
   "metadata": {},
   "outputs": [
    {
     "name": "stdout",
     "output_type": "stream",
     "text": [
      "([7], [9], [10])\n"
     ]
    }
   ],
   "source": [
    "tuple3=tuple(map(a,tuple2))\n",
    "print(tuple3)"
   ]
  },
  {
   "cell_type": "markdown",
   "id": "a68c6ff0",
   "metadata": {},
   "source": [
    "In this way, `tuple3` was generated using half the values of `tuple2` (in this case being the first ones that make up each list of `tuple2`).\n",
    "\n",
    "The other half can be used by making the following modification to the function:"
   ]
  },
  {
   "cell_type": "code",
   "execution_count": 12,
   "id": "8d689cda",
   "metadata": {},
   "outputs": [],
   "source": [
    "def a(b):\n",
    "    c=[b[1]]\n",
    "    return c"
   ]
  },
  {
   "cell_type": "markdown",
   "id": "f0d42ca4",
   "metadata": {},
   "source": [
    "By performing a procedure analogous to the previous one, we obtain the required tuple."
   ]
  },
  {
   "cell_type": "code",
   "execution_count": 13,
   "id": "1776734d",
   "metadata": {},
   "outputs": [
    {
     "name": "stdout",
     "output_type": "stream",
     "text": [
      "([8], [1], [7])\n"
     ]
    }
   ],
   "source": [
    "tuple3=tuple(map(a,tuple2))\n",
    "print(tuple3)"
   ]
  }
 ],
 "metadata": {
  "kernelspec": {
   "display_name": "Python 3 (ipykernel)",
   "language": "python",
   "name": "python3"
  },
  "language_info": {
   "codemirror_mode": {
    "name": "ipython",
    "version": 3
   },
   "file_extension": ".py",
   "mimetype": "text/x-python",
   "name": "python",
   "nbconvert_exporter": "python",
   "pygments_lexer": "ipython3",
   "version": "3.9.18"
  }
 },
 "nbformat": 4,
 "nbformat_minor": 5
}
